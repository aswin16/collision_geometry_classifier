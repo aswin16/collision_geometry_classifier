{
 "cells": [
  {
   "cell_type": "code",
   "execution_count": 1,
   "metadata": {},
   "outputs": [
    {
     "name": "stdout",
     "output_type": "stream",
     "text": [
      "Welcome to JupyROOT 6.22/03\n"
     ]
    }
   ],
   "source": [
    "import uproot\n",
    "import awkward\n",
    "import matplotlib.pyplot as plt\n",
    "import numpy as np\n",
    "\n",
    "from ROOT import TCanvas, TPad, TFile, TPaveLabel, TPaveText, gROOT, TH1F, gStyle, TGraph, TAttMarker, gPad,TProfile, gRandom,TH1F, TH2F\n"
   ]
  },
  {
   "cell_type": "code",
   "execution_count": 2,
   "metadata": {},
   "outputs": [],
   "source": [
    "bb = uproot.open('UU193_bb1.root')\n",
    "tt = uproot.open('UU193_tt1.root')"
   ]
  },
  {
   "cell_type": "code",
   "execution_count": 18,
   "metadata": {},
   "outputs": [],
   "source": [
    "file = uproot.open('UU1931.root')"
   ]
  },
  {
   "cell_type": "code",
   "execution_count": 25,
   "metadata": {},
   "outputs": [],
   "source": [
    "tree = file['tr']\n",
    "\n",
    "branches =  tree.arrays(namedecode =  'utf-8')\n"
   ]
  },
  {
   "cell_type": "code",
   "execution_count": 3,
   "metadata": {},
   "outputs": [],
   "source": [
    "b_tree = bb['tr']\n",
    "t_tree = tt['tr']"
   ]
  },
  {
   "cell_type": "code",
   "execution_count": 4,
   "metadata": {},
   "outputs": [],
   "source": [
    "b_branches = b_tree.arrays(namedecode='utf-8')\n",
    "b_table  = awkward.Table(b_branches)\n",
    "\n",
    "\n",
    "t_branches = t_tree.arrays(namedecode='utf-8')\n",
    "t_table  = awkward.Table(t_branches)"
   ]
  },
  {
   "cell_type": "code",
   "execution_count": null,
   "metadata": {},
   "outputs": [],
   "source": [
    "b_px = b_branches['Px'].flatten()\n",
    "b_py = b_branches['Py'].flatten()\n",
    "b_pz = b_branches['Pz'].flatten()\n",
    "b_pid = b_branches['PID'].flatten()\n",
    "\n",
    "\n",
    "\n",
    "t_px = t_branches['Px'].flatten()\n",
    "t_py = t_branches['Py'].flatten()\n",
    "t_pz = t_branches['Pz'].flatten()\n",
    "t_pid = t_branches['PID'].flatten()\n"
   ]
  },
  {
   "cell_type": "code",
   "execution_count": 38,
   "metadata": {},
   "outputs": [],
   "source": [
    "px = branches['Px'].flatten()\n",
    "py = branches['Py'].flatten()\n",
    "pz = branches['Pz'].flatten()\n",
    "pid = branches['PID'].flatten()"
   ]
  },
  {
   "cell_type": "code",
   "execution_count": 39,
   "metadata": {},
   "outputs": [],
   "source": [
    "chr_mask = ((pid == abs(211)) + (pid == abs(321)) + (pid == abs(2212))).astype(bool)\n",
    "px_mask =  px!=0   \n",
    "py_mask =  py!=0\n",
    "mask = ((chr_mask * px_mask) * py_mask).astype(bool)\n"
   ]
  },
  {
   "cell_type": "code",
   "execution_count": null,
   "metadata": {},
   "outputs": [],
   "source": [
    "b_chr_mask = ((b_pid == abs(211)) + (b_pid == abs(321)) + (b_pid == abs(2212))).astype(bool)\n",
    "b_px_mask =  b_px!=0   \n",
    "b_py_mask =  b_py!=0\n",
    "b_mask = ((b_chr_mask * b_px_mask) * b_py_mask).astype(bool)\n",
    "\n",
    "\n",
    "t_chr_mask = ((t_pid == abs(211)) + (t_pid == abs(321)) + (t_pid == abs(2212))).astype(bool)\n",
    "t_px_mask =  t_px!=0   \n",
    "t_py_mask =  t_py!=0\n",
    "t_mask = ((t_chr_mask * t_px_mask) * t_py_mask).astype(bool)\n",
    "\n",
    "\n",
    "\n"
   ]
  },
  {
   "cell_type": "code",
   "execution_count": null,
   "metadata": {},
   "outputs": [],
   "source": [
    "b_Px = b_px[b_mask]\n",
    "b_Py = b_py[b_mask]\n",
    "b_Pt = np.sqrt(b_Px**2 + b_Py**2)\n",
    "b_phi = np.arctan2(b_Py,b_Px)\n",
    "\n",
    "t_Px = t_px[t_mask]\n",
    "t_Py = t_py[t_mask]\n",
    "t_Pt = np.sqrt(t_Px**2 + t_Py**2)\n",
    "t_phi = np.arctan2(t_Py,t_Px)"
   ]
  },
  {
   "cell_type": "code",
   "execution_count": null,
   "metadata": {},
   "outputs": [],
   "source": [
    "b_Pz = b_branches['Pz'].flatten()[b_mask]\n",
    "b_mass = b_branches['Mass'].flatten()[b_mask]"
   ]
  },
  {
   "cell_type": "code",
   "execution_count": null,
   "metadata": {},
   "outputs": [],
   "source": [
    "t_Pz = t_branches['Pz'].flatten()[t_mask]\n",
    "t_mass = t_branches['Mass'].flatten()[t_mask]\n"
   ]
  },
  {
   "cell_type": "code",
   "execution_count": null,
   "metadata": {},
   "outputs": [],
   "source": [
    "b_energy =  np.sqrt(b_mass**2 +  (b_Px**2 + b_Py**2 + b_Pz**2))\n",
    "b_y = np.arctanh(b_Pz/b_energy)\n"
   ]
  },
  {
   "cell_type": "code",
   "execution_count": null,
   "metadata": {},
   "outputs": [],
   "source": [
    "t_energy =  np.sqrt(t_mass**2 +  (t_Px**2 + t_Py**2 + t_Pz**2))\n",
    "t_y = np.arctanh(t_Pz/t_energy)\n"
   ]
  },
  {
   "cell_type": "code",
   "execution_count": 41,
   "metadata": {},
   "outputs": [],
   "source": [
    "Px = px[mask]\n",
    "Py = py[mask]\n",
    "Pt = np.sqrt(Px**2 + Py**2)\n",
    "phi = np.arctan2(Py,Px)\n",
    "\n",
    "Pz = branches['Pz'].flatten()[mask]\n",
    "mass = branches['Mass'].flatten()[mask]\n",
    "\n",
    "energy =  np.sqrt(mass**2 +  (Px**2 + Py**2 + Pz**2))\n",
    "y = np.arctanh(Pz/energy)\n"
   ]
  },
  {
   "cell_type": "code",
   "execution_count": null,
   "metadata": {},
   "outputs": [],
   "source": [
    "cpx = TCanvas( 'cpx', 'px', 200, 10, 500, 500 )\n",
    "\n",
    "hpx = TH1F('hpx', 'px distro',100,-1,1)\n",
    "\n",
    "\n",
    "for i  in range(len(b_Px)):\n",
    "    hpx.Fill(b_Px[i])\n",
    "    \n",
    "hpx.Draw()\n",
    "cpx.Draw()\n"
   ]
  },
  {
   "cell_type": "code",
   "execution_count": null,
   "metadata": {},
   "outputs": [],
   "source": [
    "cpy = TCanvas( 'cpy', 'py', 200, 10, 500, 500 )\n",
    "\n",
    "hpy = TH1F('hpy', 'Py distro',100,-6,6)\n",
    "\n",
    "\n",
    "for i  in range(len(b_Py)):\n",
    "    hpy.Fill(b_Py[i])\n",
    "    \n",
    "hpy.Draw()\n",
    "cpy.Draw()\n"
   ]
  },
  {
   "cell_type": "code",
   "execution_count": null,
   "metadata": {},
   "outputs": [],
   "source": [
    "cpz = TCanvas( 'cpz', 'pz', 200, 10, 500, 500 )\n",
    "\n",
    "hpz = TH1F('hpz', 'Pz distro',100,-50,50)\n",
    "\n",
    "\n",
    "for i  in range(len(b_Pz)):\n",
    "    hpz.Fill(b_Pz[i])\n",
    "    \n",
    "hpz.Draw()\n",
    "cpz.Draw()\n"
   ]
  },
  {
   "cell_type": "code",
   "execution_count": null,
   "metadata": {},
   "outputs": [],
   "source": [
    "cpt = TCanvas( 'cpt', 'pt', 200, 10, 400, 400 )\n",
    "\n",
    "hpt = TH1F('hpt', 'Pt distro',100,0,3.5)\n",
    "\n",
    "\n",
    "for i  in range(len(b_Pt)):\n",
    "    hpt.Fill(b_Pt[i])\n",
    "    \n",
    "hpt.Draw()\n",
    "cpt.Draw()\n"
   ]
  },
  {
   "cell_type": "code",
   "execution_count": null,
   "metadata": {},
   "outputs": [],
   "source": [
    "cphi = TCanvas( 'cphi', 'phi', 200, 10, 400, 400 )\n",
    "\n",
    "hphi = TH1F('hphi', 'phi distro',100,-4,4)\n",
    "\n",
    "\n",
    "for i  in range(len(b_phi)):\n",
    "    hphi.Fill(b_phi[i])\n",
    "    \n",
    "hphi.Draw()\n",
    "cphi.Draw()\n"
   ]
  },
  {
   "cell_type": "markdown",
   "metadata": {},
   "source": [
    "# V2"
   ]
  },
  {
   "cell_type": "code",
   "execution_count": 43,
   "metadata": {},
   "outputs": [
    {
     "name": "stderr",
     "output_type": "stream",
     "text": [
      "Warning in <TROOT::Append>: Replacing existing TH1: v2vspt (Potential memory leak).\n"
     ]
    },
    {
     "data": {
      "image/png": "[encoded data removed]",
      "text/plain": [
       "<IPython.core.display.Image object>"
      ]
     },
     "metadata": {},
     "output_type": "display_data"
    }
   ],
   "source": [
    "Cv2vspt = TCanvas( 'Cv2vspt', 'v2vspt', 200, 10, 500, 500 )\n",
    "\n",
    "t_hproff = TProfile('v2vspt', '!tt!bb ',100,0,3,-1,1)\n",
    "\n",
    "t_hproff.SetMarkerStyle(32)\n",
    "t_hproff.SetMarkerColor(2)\n",
    "\n",
    "\n",
    "\n",
    "\n",
    "for i  in range(len(Px)):   # len(PX):length of the array as upper bound of iteration variable\n",
    "    \n",
    "    \n",
    "        \n",
    "    phi = np.arctan2(Px[i],Py[i])\n",
    "    \n",
    "    pt = Pt[i]\n",
    "    \n",
    "    if phi < 0:\n",
    "        phi = phi+2*np.pi\n",
    "        \n",
    "    v2 = np.cos(2*phi)\n",
    "    \n",
    "    t_hproff.Fill(pt,v2)\n",
    "    \n",
    "t_hproff.Draw()\n",
    "\n",
    "Cv2vspt.Draw()\n"
   ]
  },
  {
   "cell_type": "code",
   "execution_count": null,
   "metadata": {},
   "outputs": [],
   "source": [
    "b_Cv2vspt = TCanvas( 'Cv2vspt', 'v2vspt', 200, 10, 500, 500 )\n",
    "\n",
    "b_hproff = TProfile('v2vspt', 'body-body ',100,0,3,-1,1)\n",
    "\n",
    "b_hproff.SetMarkerStyle(32)\n",
    "b_hproff.SetMarkerColor(4)\n",
    "\n",
    "\n",
    "\n",
    "\n",
    "\n",
    "\n",
    "for i  in range(len(b_Px)):   # len(PX):length of the array as upper bound of iteration variable\n",
    "    \n",
    "    #if(PX[i] == 0 and PY[i]==0):\n",
    "        #continue\n",
    "        \n",
    "    phi = np.arctan2(b_Px[i],b_Py[i])\n",
    "    \n",
    "    pt = b_Pt[i]\n",
    "    \n",
    "    if phi < 0:\n",
    "        phi = phi+2*np.pi\n",
    "        \n",
    "    v2 = np.cos(2*phi)\n",
    "    \n",
    "    b_hproff.Fill(pt,v2)\n",
    "    \n",
    "#hproff.Draw()\n",
    "\n",
    "#Cv2vspt.Draw()\n"
   ]
  },
  {
   "cell_type": "code",
   "execution_count": null,
   "metadata": {},
   "outputs": [],
   "source": [
    "b_hproff.Draw(\"same\")\n",
    "t_hproff.Draw(\"same\")\n",
    "\n",
    "\n",
    "#v2vspt = TCanvas( 'Cv2vspt', 'v2vspt', 200, 10, 500, 500 )\n",
    "\n",
    "b_Cv2vspt.Draw(\"same\")\n",
    "gPad.BuildLegend()\n"
   ]
  },
  {
   "cell_type": "markdown",
   "metadata": {},
   "source": [
    "# Spectra"
   ]
  },
  {
   "cell_type": "code",
   "execution_count": null,
   "metadata": {},
   "outputs": [],
   "source": [
    "bh_pt = plt.hist(b_Pt, bins = 150, range =(0,2.5))\n",
    "b_N = bh_pt[0]\n",
    "b_bins = bh_pt[1]\n",
    "b_bin_width = b_bins[1] - b_bins[0]\n",
    "b_y_range = np.max(b_y) - np.min(b_y)\n",
    "b_dNdPt =  b_N /b_bin_width\n",
    "b_d2NdPtdy = b_dNdPt/b_y_range\n",
    "b_d2NdPtdy = b_d2NdPtdy/(len(b_tree)*2*np.pi)\n",
    "\n",
    "b_Ptt = []\n",
    "\n",
    "for i in range(0,len(bh_pt[1])-1):\n",
    "    \n",
    "    ptt = (bh_pt[1][i] + bh_pt[1][i+1])/2\n",
    "    b_Ptt.append(ptt)\n",
    "    \n",
    " \n",
    "b_pptt =  np.array(b_Ptt)\n"
   ]
  },
  {
   "cell_type": "code",
   "execution_count": null,
   "metadata": {},
   "outputs": [],
   "source": [
    "from ROOT import TLatex\n",
    "\n",
    "b_spectra = TCanvas( 'Cv2vspt', 'spectra', 200, 10, 500, 500 )\n",
    "\n",
    "b_HPROF = TProfile('spectra', 'body-body ',100,0,3,0,100)\n",
    "\n",
    "b_HPROF.SetMarkerStyle(32)\n",
    "b_HPROF.SetMarkerColor(4)\n",
    "\n",
    "\n",
    "\n",
    "\n",
    "for i  in range(len(b_pptt)):   \n",
    "        \n",
    "    \n",
    "    \n",
    "    b_HPROF.Fill(b_pptt[i],b_d2NdPtdy[i]/b_pptt[i])\n",
    "    \n",
    "#b_HPROF.Draw()\n",
    "\n",
    "#b_spectra.Draw()\n",
    "\n",
    "#b_HPROF.GetXaxis().SetTitle(\"Pt\")\n",
    "#HPROF.GetYaxis().SetTitle(\" #frac {1}{2\\pi * N_{events}}  * #frac {d^{2}N}{dydP_{T}} \")\n",
    "\n"
   ]
  },
  {
   "cell_type": "code",
   "execution_count": null,
   "metadata": {},
   "outputs": [],
   "source": [
    "th_pt = plt.hist(t_Pt, bins = 150, range =(0,2.5))\n",
    "t_N = th_pt[0]\n",
    "t_bins = th_pt[1]\n",
    "t_bin_width = t_bins[1] - t_bins[0]\n",
    "t_y_range = np.max(t_y) - np.min(t_y)\n",
    "t_dNdPt =  t_N /t_bin_width\n",
    "t_d2NdPtdy = t_dNdPt/t_y_range\n",
    "t_d2NdPtdy = t_d2NdPtdy/(len(t_tree)*2*np.pi)\n",
    "\n",
    "t_Ptt = []\n",
    "\n",
    "for i in range(0,len(th_pt[1])-1):\n",
    "    \n",
    "    ptt = (th_pt[1][i] + th_pt[1][i+1])/2\n",
    "    t_Ptt.append(ptt)\n",
    "    \n",
    " \n",
    "t_pptt =  np.array(t_Ptt)\n"
   ]
  },
  {
   "cell_type": "code",
   "execution_count": null,
   "metadata": {},
   "outputs": [],
   "source": [
    "#t_spectra = TCanvas( 'Cv2vspt', 'spectra', 200, 10, 500, 500 )\n",
    "\n",
    "t_HPROF = TProfile('spectra', 'tip-tip ',100,0,3,0,100)\n",
    "\n",
    "t_HPROF.SetMarkerStyle(32)\n",
    "t_HPROF.SetMarkerColor(2)\n",
    "\n",
    "\n",
    "\n",
    "\n",
    "for i  in range(len(t_pptt)):   \n",
    "        \n",
    "    \n",
    "    \n",
    "    t_HPROF.Fill(t_pptt[i],t_d2NdPtdy[i]/t_pptt[i])\n",
    "    \n",
    "#t_HPROF.Draw()\n",
    "\n",
    "#t_spectra.Draw()\n",
    "\n",
    "#t_HPROF.GetXaxis().SetTitle(\"Pt\")\n",
    "#HPROF.GetYaxis().SetTitle(\" #frac {1}{2\\pi * N_{events}}  * #frac {d^{2}N}{dydP_{T}} \")\n"
   ]
  },
  {
   "cell_type": "code",
   "execution_count": null,
   "metadata": {},
   "outputs": [],
   "source": [
    "b_HPROF.Draw(\"same\")\n",
    "t_HPROF.Draw(\"same\")\n",
    "\n",
    "b_spectra.Draw(\"same\")\n",
    "\n",
    "gPad.BuildLegend()\n",
    "\n",
    "\n"
   ]
  },
  {
   "cell_type": "code",
   "execution_count": null,
   "metadata": {},
   "outputs": [],
   "source": [
    "ratio_ = TCanvas( 'ratio_', '', 200, 10, 400, 400 )\n",
    "\n",
    "prof_ = TProfile('prof_', '',100,0,3,0.5,2)\n",
    "\n",
    "prof_.SetMarkerStyle(32)\n",
    "prof_.SetMarkerColor(2)\n",
    "\n",
    "\n",
    "\n",
    "\n",
    "for i  in range(len(t_pptt)):   \n",
    "    \n",
    "    b = (b_d2NdPtdy[i]/b_pptt[i])\n",
    "    t = (t_d2NdPtdy[i]/t_pptt[i]) \n",
    "        \n",
    "    prof_.Fill(b_pptt[i], (t/b))\n",
    "    \n",
    "prof_.Draw()\n",
    "\n",
    "ratio_.Draw()\n",
    "\n",
    "prof_.GetXaxis().SetTitle(\"Pt\")\n",
    "prof_.GetYaxis().SetTitle(\"ratio\")"
   ]
  },
  {
   "cell_type": "code",
   "execution_count": null,
   "metadata": {},
   "outputs": [],
   "source": []
  },
  {
   "cell_type": "code",
   "execution_count": null,
   "metadata": {},
   "outputs": [],
   "source": [
    "b = (b_d2NdPtdy/b_pptt)\n",
    "t = (t_d2NdPtdy/t_pptt) \n",
    "        "
   ]
  },
  {
   "cell_type": "code",
   "execution_count": null,
   "metadata": {},
   "outputs": [],
   "source": [
    "t.shape"
   ]
  },
  {
   "cell_type": "code",
   "execution_count": null,
   "metadata": {},
   "outputs": [],
   "source": [
    "plt.plot(b_pptt, (t/b))"
   ]
  },
  {
   "cell_type": "code",
   "execution_count": null,
   "metadata": {},
   "outputs": [],
   "source": [
    "plt.plot(b_pptt, np.log(t/b))"
   ]
  },
  {
   "cell_type": "code",
   "execution_count": null,
   "metadata": {},
   "outputs": [],
   "source": [
    "plt.plot(t_pptt, np.log(b/t))"
   ]
  },
  {
   "cell_type": "code",
   "execution_count": null,
   "metadata": {},
   "outputs": [],
   "source": [
    "plt.plot(b_pptt, np.log(b/t))"
   ]
  },
  {
   "cell_type": "code",
   "execution_count": null,
   "metadata": {},
   "outputs": [],
   "source": [
    "b_pptt"
   ]
  },
  {
   "cell_type": "code",
   "execution_count": null,
   "metadata": {},
   "outputs": [],
   "source": [
    "ratio__ = TCanvas( 'ratio__', '', 200, 10, 400, 400 )\n",
    "\n",
    "prof__ = TProfile('prof__', '',100,0,3,0.5,2)\n",
    "\n",
    "prof__.SetMarkerStyle(32)\n",
    "prof__.SetMarkerColor(2)\n",
    "\n",
    "\n",
    "\n",
    "\n",
    "for i  in range(len(t_pptt)):   \n",
    "    \n",
    "    b = (b_d2NdPtdy[i]/b_pptt[i])\n",
    "    t = (t_d2NdPtdy[i]/t_pptt[i]) \n",
    "        \n",
    "    prof__.Fill(b_pptt[i], (b/t))\n",
    "    \n",
    "prof__.Draw()\n",
    "\n",
    "ratio__.Draw()\n",
    "\n",
    "prof_.GetXaxis().SetTitle(\"Pt\")\n",
    "prof_.GetYaxis().SetTitle(\"ratio\")"
   ]
  },
  {
   "cell_type": "code",
   "execution_count": null,
   "metadata": {},
   "outputs": [],
   "source": [
    "dict = {(1,2):3}"
   ]
  },
  {
   "cell_type": "code",
   "execution_count": null,
   "metadata": {},
   "outputs": [],
   "source": [
    "(1,3) not in dict"
   ]
  },
  {
   "cell_type": "code",
   "execution_count": null,
   "metadata": {},
   "outputs": [],
   "source": [
    "dict[(5,6)] = 10"
   ]
  },
  {
   "cell_type": "code",
   "execution_count": null,
   "metadata": {},
   "outputs": [],
   "source": [
    "dict"
   ]
  },
  {
   "cell_type": "code",
   "execution_count": null,
   "metadata": {},
   "outputs": [],
   "source": []
  },
  {
   "cell_type": "code",
   "execution_count": null,
   "metadata": {},
   "outputs": [],
   "source": [
    "DD"
   ]
  },
  {
   "cell_type": "code",
   "execution_count": null,
   "metadata": {},
   "outputs": [],
   "source": []
  }
 ],
 "metadata": {
  "kernelspec": {
   "display_name": "Python 3",
   "language": "python",
   "name": "python3"
  },
  "language_info": {
   "codemirror_mode": {
    "name": "ipython",
    "version": 3
   },
   "file_extension": ".py",
   "mimetype": "text/x-python",
   "name": "python",
   "nbconvert_exporter": "python",
   "pygments_lexer": "ipython3",
   "version": "3.6.9"
  }
 },
 "nbformat": 4,
 "nbformat_minor": 4
}
