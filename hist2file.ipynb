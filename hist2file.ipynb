{
 "cells": [
  {
   "cell_type": "code",
   "execution_count": 1,
   "metadata": {},
   "outputs": [],
   "source": [
    "import uproot\n",
    "import awkward\n",
    "import matplotlib.pyplot as plt\n",
    "import numpy as np\n",
    "\n"
   ]
  },
  {
   "cell_type": "code",
   "execution_count": 2,
   "metadata": {},
   "outputs": [],
   "source": [
    "bb = uproot.open('UU193_bb1.root')\n",
    "tt = uproot.open('UU193_tt1.root')\n",
    "file = uproot.open('UU1931.root')"
   ]
  },
  {
   "cell_type": "code",
   "execution_count": 3,
   "metadata": {},
   "outputs": [],
   "source": [
    "b_tree = bb['tr']\n",
    "t_tree = tt['tr']\n",
    "tree = file['tr']"
   ]
  },
  {
   "cell_type": "code",
   "execution_count": 4,
   "metadata": {},
   "outputs": [],
   "source": [
    "b_branches = b_tree.arrays(namedecode='utf-8')\n",
    "b_table  = awkward.Table(b_branches)\n",
    "\n",
    "\n",
    "t_branches = t_tree.arrays(namedecode='utf-8')\n",
    "t_table  = awkward.Table(t_branches)\n",
    "\n",
    "branches = tree.arrays(namedecode = 'utf-8')\n",
    "table = awkward.Table(branches)"
   ]
  },
  {
   "cell_type": "code",
   "execution_count": 5,
   "metadata": {},
   "outputs": [
    {
     "name": "stdout",
     "output_type": "stream",
     "text": [
      "tt max px: 15.709 tt_min_px: -16.274\n",
      "tt max py: 12.933 tt_min_py: -16.076\n",
      "bb max px: 11.302 bb_min_px -11.242\n",
      "bb max py: 10.164 bb_min_py: -11.818\n"
     ]
    }
   ],
   "source": [
    "print('tt max px:',  np.max(t_branches['Px'].flatten()),  'tt_min_px:' ,np.min(t_branches['Px'].flatten()))\n",
    "print('tt max py:',  np.max(t_branches['Py'].flatten()),  'tt_min_py:' ,np.min(t_branches['Py'].flatten()))\n",
    "print('bb max px:',  np.max(b_branches['Px'].flatten()),  'bb_min_px' ,np.min(b_branches['Px'].flatten()))\n",
    "print('bb max py:',  np.max(b_branches['Py'].flatten()),  'bb_min_py:' ,np.min(b_branches['Py'].flatten()))"
   ]
  },
  {
   "cell_type": "code",
   "execution_count": 6,
   "metadata": {},
   "outputs": [
    {
     "name": "stdout",
     "output_type": "stream",
     "text": [
      "max px: 12.608 min_px: -13.994\n",
      "max py: 22.666 min_py: -22.049\n"
     ]
    }
   ],
   "source": [
    "print('max px:',  np.max(branches['Px'].flatten()),  'min_px:' ,np.min(branches['Px'].flatten()))\n",
    "print('max py:',  np.max(branches['Py'].flatten()),  'min_py:' ,np.min(branches['Py'].flatten()))"
   ]
  },
  {
   "cell_type": "code",
   "execution_count": 7,
   "metadata": {},
   "outputs": [
    {
     "data": {
      "text/plain": [
       "\"\\nt_hpxpy = np.zeros((len(t_table),20,20))\\n\\n\\nfor i in range(len(t_table)):\\n    \\n    pid = t_table[i]['PID']\\n    py = t_table[i]['Py']\\n    mass = t_table[i]['Mass']\\n    pz = t_table[i]['Pz']\\n    px = t_table[i]['Px']\\n    \\n    energy = np.sqrt(mass**2 + (px**2 + py**2 + pz**2))\\n    \\n    chr_mask = ((pid == abs(211)) + (pid == abs(321)) + (pid == abs(2212))).astype(bool)\\n    \\n    y = np.arctanh(pz/energy)\\n    \\n    y_mask = abs(y) <= 0.5\\n    \\n    mask  = (chr_mask * y_mask).astype(bool) \\n    \\n    t_hpxpy[i] =  plt.hist2d(px[mask],py[mask], range=((-10,10), (-10,10)),  bins = (20,20), density = True)[0]\\n    plt.close()  \""
      ]
     },
     "execution_count": 7,
     "metadata": {},
     "output_type": "execute_result"
    }
   ],
   "source": [
    "'''\n",
    "t_hpxpy = np.zeros((len(t_table),20,20))\n",
    "\n",
    "\n",
    "for i in range(len(t_table)):\n",
    "    \n",
    "    pid = t_table[i]['PID']\n",
    "    py = t_table[i]['Py']\n",
    "    mass = t_table[i]['Mass']\n",
    "    pz = t_table[i]['Pz']\n",
    "    px = t_table[i]['Px']\n",
    "    \n",
    "    energy = np.sqrt(mass**2 + (px**2 + py**2 + pz**2))\n",
    "    \n",
    "    chr_mask = ((pid == abs(211)) + (pid == abs(321)) + (pid == abs(2212))).astype(bool)\n",
    "    \n",
    "    y = np.arctanh(pz/energy)\n",
    "    \n",
    "    y_mask = abs(y) <= 0.5\n",
    "    \n",
    "    mask  = (chr_mask * y_mask).astype(bool) \n",
    "    \n",
    "    t_hpxpy[i] =  plt.hist2d(px[mask],py[mask], range=((-10,10), (-10,10)),  bins = (20,20), density = True)[0]\n",
    "    plt.close()  '''"
   ]
  },
  {
   "cell_type": "code",
   "execution_count": 8,
   "metadata": {},
   "outputs": [
    {
     "data": {
      "text/plain": [
       "\"\\nb_hpxpy = np.zeros((len(b_table),20,20))\\n\\n\\nfor i in range(len(b_table)):\\n    \\n    pid = b_table[i]['PID']\\n    py = b_table[i]['Py']\\n    mass = b_table[i]['Mass']\\n    pz = b_table[i]['Pz']\\n    px = b_table[i]['Px']\\n    \\n    energy = np.sqrt(mass**2 + (px**2 + py**2 + pz**2))\\n    \\n    chr_mask = ((pid == abs(211)) + (pid == abs(321)) + (pid == abs(2212))).astype(bool)\\n    \\n    y = np.arctanh(pz/energy)\\n    \\n    y_mask = abs(y) <= 0.5\\n    \\n    mask  = (chr_mask * y_mask).astype(bool) \\n    \\n    b_hpxpy[i] =  plt.hist2d(px[mask],py[mask],  range=((-10,10), (-10,10)), bins = (20,20), density = True )[0]\\n    plt.close()  \""
      ]
     },
     "execution_count": 8,
     "metadata": {},
     "output_type": "execute_result"
    }
   ],
   "source": [
    "'''\n",
    "b_hpxpy = np.zeros((len(b_table),20,20))\n",
    "\n",
    "\n",
    "for i in range(len(b_table)):\n",
    "    \n",
    "    pid = b_table[i]['PID']\n",
    "    py = b_table[i]['Py']\n",
    "    mass = b_table[i]['Mass']\n",
    "    pz = b_table[i]['Pz']\n",
    "    px = b_table[i]['Px']\n",
    "    \n",
    "    energy = np.sqrt(mass**2 + (px**2 + py**2 + pz**2))\n",
    "    \n",
    "    chr_mask = ((pid == abs(211)) + (pid == abs(321)) + (pid == abs(2212))).astype(bool)\n",
    "    \n",
    "    y = np.arctanh(pz/energy)\n",
    "    \n",
    "    y_mask = abs(y) <= 0.5\n",
    "    \n",
    "    mask  = (chr_mask * y_mask).astype(bool) \n",
    "    \n",
    "    b_hpxpy[i] =  plt.hist2d(px[mask],py[mask],  range=((-10,10), (-10,10)), bins = (20,20), density = True )[0]\n",
    "    plt.close()  '''"
   ]
  },
  {
   "cell_type": "code",
   "execution_count": 9,
   "metadata": {},
   "outputs": [
    {
     "data": {
      "text/plain": [
       "\"np.save('hist_bb.npy',t_hpxpy)\\nnp.save('hist_tt.npy', b_hpxpy)\\n\\n\""
      ]
     },
     "execution_count": 9,
     "metadata": {},
     "output_type": "execute_result"
    }
   ],
   "source": [
    "'''np.save('hist_bb.npy',t_hpxpy)\n",
    "np.save('hist_tt.npy', b_hpxpy)\n",
    "\n",
    "'''"
   ]
  },
  {
   "cell_type": "markdown",
   "metadata": {},
   "source": [
    "# Pt-phi"
   ]
  },
  {
   "cell_type": "code",
   "execution_count": 10,
   "metadata": {},
   "outputs": [],
   "source": [
    "\n",
    "t_phipt = np.zeros((len(t_table),20,20))\n",
    "\n",
    "\n",
    "for i in range(len(t_table)):\n",
    "    \n",
    "    pid = t_table[i]['PID']\n",
    "    py = t_table[i]['Py']\n",
    "    px = t_table[i]['Px']\n",
    "    \n",
    "    \n",
    "    mask = ((pid == abs(211)) + (pid == abs(321)) + (pid == abs(2212))).astype(bool)\n",
    "    \n",
    "    \n",
    "    \n",
    "    \n",
    "    pt =  np.sqrt(px[mask]**2 + py[mask]**2)\n",
    "    \n",
    "    phi = np.arctan2(py[mask],px[mask])\n",
    "    \n",
    "    \n",
    "    t_phipt[i] =  plt.hist2d(phi,pt,  bins = (20,20), density = True)[0]\n",
    "    plt.close()  \n",
    "    \n",
    "np.save('t_phipt.npy', t_phipt)"
   ]
  },
  {
   "cell_type": "code",
   "execution_count": 11,
   "metadata": {},
   "outputs": [],
   "source": [
    "\n",
    "b_phipt = np.zeros((len(b_table),20,20))\n",
    "\n",
    "\n",
    "for i in range(len(b_table)):\n",
    "    \n",
    "    pid = b_table[i]['PID']\n",
    "    py = b_table[i]['Py']\n",
    "    px = b_table[i]['Px']\n",
    "    \n",
    "    \n",
    "    mask = ((pid == abs(211)) + (pid == abs(321)) + (pid == abs(2212))).astype(bool)\n",
    "    \n",
    "    \n",
    "    \n",
    "    \n",
    "    pt =  np.sqrt(px[mask]**2 + py[mask]**2)\n",
    "    \n",
    "    phi = np.arctan2(py[mask],px[mask])\n",
    "    \n",
    "    \n",
    "    b_phipt[i] =  plt.hist2d(phi,pt,  bins = (20,20), density = True)[0]\n",
    "    plt.close()  \n",
    "    \n",
    "np.save('b_phipt.npy', b_phipt)"
   ]
  },
  {
   "cell_type": "code",
   "execution_count": 12,
   "metadata": {},
   "outputs": [],
   "source": [
    "\n",
    "phipt = np.zeros((len(table),20,20))\n",
    "\n",
    "\n",
    "for i in range(len(table)):\n",
    "    \n",
    "    pid = table[i]['PID']\n",
    "    py = table[i]['Py']\n",
    "    px = table[i]['Px']\n",
    "    \n",
    "    \n",
    "    mask = ((pid == abs(211)) + (pid == abs(321)) + (pid == abs(2212))).astype(bool)\n",
    "    \n",
    "    \n",
    "    \n",
    "    \n",
    "    pt =  np.sqrt(px[mask]**2 + py[mask]**2)\n",
    "    \n",
    "    phi = np.arctan2(py[mask],px[mask])\n",
    "    \n",
    "    \n",
    "    phipt[i] =  plt.hist2d(phi,pt,  bins = (20,20), density = True)[0]\n",
    "    plt.close()  \n",
    "    \n",
    "np.save('phipt.npy', phipt)"
   ]
  }
 ],
 "metadata": {
  "kernelspec": {
   "display_name": "Python 3",
   "language": "python",
   "name": "python3"
  },
  "language_info": {
   "codemirror_mode": {
    "name": "ipython",
    "version": 3
   },
   "file_extension": ".py",
   "mimetype": "text/x-python",
   "name": "python",
   "nbconvert_exporter": "python",
   "pygments_lexer": "ipython3",
   "version": "3.6.9"
  }
 },
 "nbformat": 4,
 "nbformat_minor": 4
}
