{
 "cells": [
  {
   "cell_type": "code",
   "execution_count": null,
   "metadata": {},
   "outputs": [],
   "source": [
    "import uproot\n",
    "import awkward\n",
    "import matplotlib.pyplot as plt\n",
    "import numpy as np\n",
    "\n"
   ]
  },
  {
   "cell_type": "code",
   "execution_count": null,
   "metadata": {},
   "outputs": [],
   "source": [
    "bb = uproot.open('UU193_bb1.root')\n",
    "tt = uproot.open('UU193_tt1.root')"
   ]
  },
  {
   "cell_type": "code",
   "execution_count": null,
   "metadata": {},
   "outputs": [],
   "source": [
    "b_tree = bb['tr']\n",
    "t_tree = tt['tr']"
   ]
  },
  {
   "cell_type": "code",
   "execution_count": null,
   "metadata": {},
   "outputs": [],
   "source": [
    "b_branches = b_tree.arrays(namedecode='utf-8')\n",
    "b_table  = awkward.Table(b_branches)\n",
    "\n",
    "\n",
    "t_branches = t_tree.arrays(namedecode='utf-8')\n",
    "t_table  = awkward.Table(t_branches)"
   ]
  },
  {
   "cell_type": "code",
   "execution_count": null,
   "metadata": {},
   "outputs": [],
   "source": [
    "\n",
    "t_hpxpy = np.zeros((len(t_table),10,10))\n",
    "\n",
    "\n",
    "for i in range(len(t_table)):\n",
    "    \n",
    "    pid = t_table[i]['PID']\n",
    "    py = t_table[i]['Py']\n",
    "    mass = t_table[i]['Mass']\n",
    "    pz = t_table[i]['Pz']\n",
    "    px = t_table[i]['Px']\n",
    "    \n",
    "    energy = np.sqrt(mass**2 + (px**2 + py**2 + pz**2))\n",
    "    \n",
    "    chr_mask = ((pid == abs(211)) + (pid == abs(321)) + (pid == abs(2212))).astype(bool)\n",
    "    \n",
    "    y = np.arctanh(pz/energy)\n",
    "    \n",
    "    y_mask = abs(y) <= 0.5\n",
    "    \n",
    "    mask  = (chr_mask * y_mask).astype(bool) \n",
    "    \n",
    "    t_hpxpy[i] =  plt.hist2d(px[mask],py[mask],  bins = (10,10) )[0]\n",
    "    plt.close()  "
   ]
  },
  {
   "cell_type": "code",
   "execution_count": null,
   "metadata": {},
   "outputs": [],
   "source": [
    "\n",
    "b_hpxpy = np.zeros((len(b_table),10,10))\n",
    "\n",
    "\n",
    "for i in range(len(b_table)):\n",
    "    \n",
    "    pid = b_table[i]['PID']\n",
    "    py = b_table[i]['Py']\n",
    "    mass = b_table[i]['Mass']\n",
    "    pz = b_table[i]['Pz']\n",
    "    px = b_table[i]['Px']\n",
    "    \n",
    "    energy = np.sqrt(mass**2 + (px**2 + py**2 + pz**2))\n",
    "    \n",
    "    chr_mask = ((pid == abs(211)) + (pid == abs(321)) + (pid == abs(2212))).astype(bool)\n",
    "    \n",
    "    y = np.arctanh(pz/energy)\n",
    "    \n",
    "    y_mask = abs(y) <= 0.5\n",
    "    \n",
    "    mask  = (chr_mask * y_mask).astype(bool) \n",
    "    \n",
    "    b_hpxpy[i] =  plt.hist2d(px[mask],py[mask],  bins = (10,10) )[0]\n",
    "    plt.close()  "
   ]
  },
  {
   "cell_type": "code",
   "execution_count": null,
   "metadata": {},
   "outputs": [],
   "source": [
    "np.save('hist_bb.npy',t_hpxpy)\n",
    "np.save('hist_tt.npy', b_hpxpy)\n",
    "\n"
   ]
  },
  {
   "cell_type": "code",
   "execution_count": null,
   "metadata": {},
   "outputs": [],
   "source": []
  }
 ],
 "metadata": {
  "kernelspec": {
   "display_name": "Python 3",
   "language": "python",
   "name": "python3"
  },
  "language_info": {
   "codemirror_mode": {
    "name": "ipython",
    "version": 3
   },
   "file_extension": ".py",
   "mimetype": "text/x-python",
   "name": "python",
   "nbconvert_exporter": "python",
   "pygments_lexer": "ipython3",
   "version": "3.6.9"
  }
 },
 "nbformat": 4,
 "nbformat_minor": 4
}
