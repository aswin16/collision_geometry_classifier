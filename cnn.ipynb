{
 "cells": [
  {
   "cell_type": "code",
   "execution_count": 1,
   "metadata": {},
   "outputs": [
    {
     "name": "stderr",
     "output_type": "stream",
     "text": [
      "/home/aswin/.local/lib/python3.6/site-packages/tensorflow/python/framework/dtypes.py:458: FutureWarning: Passing (type, 1) or '1type' as a synonym of type is deprecated; in a future version of numpy, it will be understood as (type, (1,)) / '(1,)type'.\n",
      "  _np_qint8 = np.dtype([(\"qint8\", np.int8, 1)])\n",
      "/home/aswin/.local/lib/python3.6/site-packages/tensorflow/python/framework/dtypes.py:459: FutureWarning: Passing (type, 1) or '1type' as a synonym of type is deprecated; in a future version of numpy, it will be understood as (type, (1,)) / '(1,)type'.\n",
      "  _np_quint8 = np.dtype([(\"quint8\", np.uint8, 1)])\n",
      "/home/aswin/.local/lib/python3.6/site-packages/tensorflow/python/framework/dtypes.py:460: FutureWarning: Passing (type, 1) or '1type' as a synonym of type is deprecated; in a future version of numpy, it will be understood as (type, (1,)) / '(1,)type'.\n",
      "  _np_qint16 = np.dtype([(\"qint16\", np.int16, 1)])\n",
      "/home/aswin/.local/lib/python3.6/site-packages/tensorflow/python/framework/dtypes.py:461: FutureWarning: Passing (type, 1) or '1type' as a synonym of type is deprecated; in a future version of numpy, it will be understood as (type, (1,)) / '(1,)type'.\n",
      "  _np_quint16 = np.dtype([(\"quint16\", np.uint16, 1)])\n",
      "/home/aswin/.local/lib/python3.6/site-packages/tensorflow/python/framework/dtypes.py:462: FutureWarning: Passing (type, 1) or '1type' as a synonym of type is deprecated; in a future version of numpy, it will be understood as (type, (1,)) / '(1,)type'.\n",
      "  _np_qint32 = np.dtype([(\"qint32\", np.int32, 1)])\n",
      "/home/aswin/.local/lib/python3.6/site-packages/tensorflow/python/framework/dtypes.py:465: FutureWarning: Passing (type, 1) or '1type' as a synonym of type is deprecated; in a future version of numpy, it will be understood as (type, (1,)) / '(1,)type'.\n",
      "  np_resource = np.dtype([(\"resource\", np.ubyte, 1)])\n"
     ]
    }
   ],
   "source": [
    "import numpy as np\n",
    "import matplotlib.pyplot as plt\n",
    "import math\n",
    "\n",
    "import scipy\n",
    "\n",
    "\n",
    "import tensorflow as tf\n",
    "from tensorflow.python.framework import ops\n",
    "from cnn_utils import *\n",
    "\n",
    "\n",
    "%matplotlib inline\n",
    "np.random.seed(1)"
   ]
  },
  {
   "cell_type": "code",
   "execution_count": 2,
   "metadata": {},
   "outputs": [],
   "source": [
    "hist_bb = np.load(\"hist_bb.npy\")\n",
    "hist_tt = np.load('hist_tt.npy')"
   ]
  },
  {
   "cell_type": "code",
   "execution_count": 3,
   "metadata": {},
   "outputs": [
    {
     "data": {
      "text/plain": [
       "24000"
      ]
     },
     "execution_count": 3,
     "metadata": {},
     "output_type": "execute_result"
    }
   ],
   "source": [
    "len(hist_bb)"
   ]
  },
  {
   "cell_type": "code",
   "execution_count": 4,
   "metadata": {},
   "outputs": [],
   "source": [
    "bb_X_train = hist_bb[:18000]\n",
    "tt_X_train = hist_tt[:18000]\n",
    "\n",
    "bb_Y_train = np.zeros(18000)\n",
    "tt_Y_train = np.ones(18000)\n",
    "\n",
    "\n",
    "\n",
    "bb_X_test = hist_bb[18000:20000]\n",
    "tt_X_test = hist_tt[18000:20000]\n",
    "\n",
    "bb_Y_test = np.zeros(2000)\n",
    "tt_Y_test = np.ones(2000)\n",
    "\n",
    "\n",
    "\n"
   ]
  },
  {
   "cell_type": "code",
   "execution_count": 5,
   "metadata": {},
   "outputs": [
    {
     "data": {
      "text/plain": [
       "(18000, 10, 10)"
      ]
     },
     "execution_count": 5,
     "metadata": {},
     "output_type": "execute_result"
    }
   ],
   "source": [
    "bb_X_train.shape"
   ]
  },
  {
   "cell_type": "code",
   "execution_count": 6,
   "metadata": {},
   "outputs": [],
   "source": [
    "X_train = np.concatenate((bb_X_train,tt_X_train), axis = 0).reshape(-1,10,10,1)\n",
    "X_test = np.concatenate((bb_X_test,tt_X_test), axis = 0).reshape(-1,10,10,1)\n",
    "\n",
    "Y_train = np.concatenate((bb_Y_train,tt_Y_train)).reshape(len(X_train),1)\n",
    "Y_test = np.concatenate((bb_Y_test, tt_Y_test)).reshape(len(X_test),1)\n",
    "\n"
   ]
  },
  {
   "cell_type": "code",
   "execution_count": 7,
   "metadata": {},
   "outputs": [],
   "source": [
    "def create_placeholders(n_H0, n_W0, n_C0, n_y):\n",
    "    \n",
    "    X = tf.placeholder(tf.float32 ,[None, n_H0,n_W0,n_C0])\n",
    "    Y = tf.placeholder(tf.float32, [None, n_y])\n",
    "    \n",
    "    return X, Y\n",
    "    "
   ]
  },
  {
   "cell_type": "code",
   "execution_count": 8,
   "metadata": {},
   "outputs": [],
   "source": [
    "def sigmoid(x):\n",
    "    \n",
    "    return 1/(1 + np.exp(-x))"
   ]
  },
  {
   "cell_type": "code",
   "execution_count": 9,
   "metadata": {},
   "outputs": [],
   "source": [
    "def initialize_parameters():\n",
    "    tf.set_random_seed(1)\n",
    "    \n",
    "    W1 = tf.get_variable(\"W1\", [3,3,1,8],initializer = tf.contrib.layers.xavier_initializer(seed = 0))\n",
    "    W2 = tf.get_variable(\"W2\", [3,3,8,16], initializer = tf.contrib.layers.xavier_initializer(seed = 0))\n",
    "    \n",
    "    parameters = {\"W1\": W1,\n",
    "                   \"W2\": W2}\n",
    "    \n",
    "    \n",
    "    return parameters\n",
    "    \n",
    "    "
   ]
  },
  {
   "cell_type": "code",
   "execution_count": 17,
   "metadata": {},
   "outputs": [],
   "source": [
    "def forward_propagation(X, parameters):\n",
    "    \n",
    "    W1 = parameters['W1']\n",
    "    \n",
    "    W2 = parameters['W2']\n",
    "    \n",
    "    Z1 = tf.nn.conv2d(X, W1, strides = [1,1,1,1], padding = 'SAME')\n",
    "    A1 = tf.nn.relu(Z1)\n",
    "    \n",
    "    \n",
    "     \n",
    "    P1 = tf.nn.max_pool(A1, ksize = [1,2,2,1], strides = [1,2,2,1], padding = 'VALID' )\n",
    "    \n",
    "    \n",
    "    \n",
    "    Z2 =  tf.nn.conv2d(P1, W2, strides = [1,1,1,1], padding = 'SAME')\n",
    "    \n",
    "    A2 = tf.nn.relu(Z2)\n",
    "    \n",
    "\n",
    "    \n",
    "    P2 =  tf.nn.max_pool(A2, ksize = [1,3,3,1], strides = [1,1,1,1], padding = 'VALID' )\n",
    "    \n",
    "    \n",
    "    \n",
    "    F = tf.contrib.layers.flatten(P2)\n",
    "    \n",
    "    \n",
    "    \n",
    "    A3 = tf.nn.relu(F)\n",
    "    \n",
    "    \n",
    "    \n",
    "    A4 =  tf.contrib.layers.fully_connected(A3, 48, activation_fn = tf.nn.relu)\n",
    "    \n",
    "    A5 =  tf.contrib.layers.fully_connected(A4, 24, activation_fn = tf.nn.relu)\n",
    "    \n",
    "    #A6 =  tf.contrib.layers.fully_connected(A5, 12, activation_fn = tf.nn.relu)\n",
    "    \n",
    "    A6 =  tf.contrib.layers.fully_connected(A5, 4, activation_fn = tf.nn.relu)\n",
    "    \n",
    "    \n",
    "    \n",
    "    Z  = tf.contrib.layers.fully_connected(A6, 1 ,activation_fn = None)\n",
    "    \n",
    "    \n",
    "    \n",
    "    \n",
    "    return Z\n",
    "    \n",
    "    \n",
    "    "
   ]
  },
  {
   "cell_type": "code",
   "execution_count": 11,
   "metadata": {},
   "outputs": [
    {
     "data": {
      "text/plain": [
       "'\\ntf.reset_default_graph()\\n\\n\\n\\nwith tf.Session() as sess:\\n    np.random.seed(1)\\n    X, Y = create_placeholders(10, 10, 1, 1)\\n    parameters = initialize_parameters()\\n    Z = forward_propagation(X, parameters)\\n    init = tf.global_variables_initializer()\\n    sess.run(init)\\n    a = sess.run(Z, {X: np.random.randn(5,10,10,1), Y: np.random.randn(5,1)})\\n    print(\"Z = \\n\" + str(a))\\n'"
      ]
     },
     "execution_count": 11,
     "metadata": {},
     "output_type": "execute_result"
    }
   ],
   "source": [
    "'''\n",
    "tf.reset_default_graph()\n",
    "\n",
    "\n",
    "\n",
    "with tf.Session() as sess:\n",
    "    np.random.seed(1)\n",
    "    X, Y = create_placeholders(10, 10, 1, 1)\n",
    "    parameters = initialize_parameters()\n",
    "    Z = forward_propagation(X, parameters)\n",
    "    init = tf.global_variables_initializer()\n",
    "    sess.run(init)\n",
    "    a = sess.run(Z, {X: np.random.randn(5,10,10,1), Y: np.random.randn(5,1)})\n",
    "    print(\"Z = \\n\" + str(a))\n",
    "'''"
   ]
  },
  {
   "cell_type": "code",
   "execution_count": 12,
   "metadata": {},
   "outputs": [],
   "source": [
    "def compute_cost(Z, Y):\n",
    "    \n",
    "    cost = tf.reduce_mean(tf.nn.sigmoid_cross_entropy_with_logits(logits = Z, labels = Y))\n",
    "    \n",
    "    return cost"
   ]
  },
  {
   "cell_type": "code",
   "execution_count": 13,
   "metadata": {},
   "outputs": [
    {
     "data": {
      "text/plain": [
       "'tf.reset_default_graph()\\n\\n\\n\\nwith tf.Session() as sess:\\n    np.random.seed(1)\\n    X, Y = create_placeholders(10, 10, 1, 1)\\n    parameters = initialize_parameters()\\n    Z = forward_propagation(X, parameters)\\n    \\n    cost = compute_cost(Z,Y)\\n    init = tf.global_variables_initializer()\\n    sess.run(init)\\n    a = sess.run(cost, {X: np.random.randn(5,10,10,1), Y: np.random.randn(5,1)})\\n    print(\"cost = \" + str(a))'"
      ]
     },
     "execution_count": 13,
     "metadata": {},
     "output_type": "execute_result"
    }
   ],
   "source": [
    "'''tf.reset_default_graph()\n",
    "\n",
    "\n",
    "\n",
    "with tf.Session() as sess:\n",
    "    np.random.seed(1)\n",
    "    X, Y = create_placeholders(10, 10, 1, 1)\n",
    "    parameters = initialize_parameters()\n",
    "    Z = forward_propagation(X, parameters)\n",
    "    \n",
    "    cost = compute_cost(Z,Y)\n",
    "    init = tf.global_variables_initializer()\n",
    "    sess.run(init)\n",
    "    a = sess.run(cost, {X: np.random.randn(5,10,10,1), Y: np.random.randn(5,1)})\n",
    "    print(\"cost = \" + str(a))'''"
   ]
  },
  {
   "cell_type": "code",
   "execution_count": 14,
   "metadata": {},
   "outputs": [],
   "source": [
    "def model(X_train, Y_train, X_test, Y_test, learning_rate = 0.009,\n",
    "          num_epochs = 200, minibatch_size = 64, print_cost = True):\n",
    "    \n",
    "    \n",
    "    \n",
    "    ops.reset_default_graph()\n",
    "    tf.set_random_seed(1)\n",
    "    seed = 3\n",
    "    (m,n_H0,n_W0,n_C0) = X_train.shape\n",
    "    \n",
    "    n_y = Y_train.shape[1]\n",
    "    \n",
    "    costs = []\n",
    "    \n",
    "    X,Y = create_placeholders(n_H0, n_W0,n_C0, n_y)\n",
    "    \n",
    "    parameters = initialize_parameters()\n",
    "    \n",
    "    Z =  forward_propagation(X, parameters)\n",
    "    \n",
    "    cost = compute_cost(Z,Y)\n",
    "    \n",
    "    optimizer =  tf.train.AdamOptimizer(learning_rate= learning_rate).minimize(cost)\n",
    "    \n",
    "    init = tf.global_variables_initializer()\n",
    "    \n",
    "    with tf.Session() as sess:\n",
    "        \n",
    "        sess.run(init)\n",
    "        \n",
    "        for epoch in range(num_epochs):\n",
    "            \n",
    "            minibatch_cost = 0.\n",
    "            num_minibathches = int(m/minibatch_size)\n",
    "            seed = seed + 1\n",
    "            \n",
    "            minibatches =  random_mini_batches(X_train, Y_train, minibatch_size, seed)\n",
    "            \n",
    "            for minibatch in minibatches:\n",
    "                \n",
    "                (minibatch_X, minibatch_Y) = minibatch\n",
    "                \n",
    "                _ , temp_cost = sess.run([optimizer, cost], feed_dict = {X: minibatch_X, Y: minibatch_Y})\n",
    "                \n",
    "                minibatch_cost += temp_cost/ num_minibathches\n",
    "                \n",
    "                \n",
    "                \n",
    "                \n",
    "            if print_cost == True and epoch % 5 == 0:\n",
    "                print(\"Cost after epoch %i: %f\" % (epoch, minibatch_cost))\n",
    "                \n",
    "            if print_cost == True and epoch % 1 == 0:\n",
    "                costs.append(minibatch_cost)\n",
    "                \n",
    "        plt.plot(np.squeeze(costs))\n",
    "        \n",
    "        plt.xlabel('iterations(per tens)')\n",
    "        plt.ylabel('cost')\n",
    "        plt.title(\"Learning rate =\" + str(learning_rate))\n",
    "        plt.show()\n",
    "        \n",
    "        predict_op = tf.nn.sigmoid(Z)\n",
    "        \n",
    "        correct_prediction = tf.equal(tf.round(predict_op), Y)\n",
    "        \n",
    "        accuracy = tf.reduce_mean(tf.cast(correct_prediction, \"float\"))\n",
    "        \n",
    "        print(accuracy)\n",
    "        \n",
    "        train_accuracy = accuracy.eval({X: X_train, Y: Y_train})\n",
    "        test_accuracy = accuracy.eval({X: X_test, Y: Y_test})\n",
    "        \n",
    "        print(\"Train Accuracy:\", train_accuracy)\n",
    "        print(\"Test Accuracy:\", test_accuracy)\n",
    "        \n",
    "        return train_accuracy, test_accuracy, parameters\n",
    "        \n",
    "        \n",
    "        \n",
    "                \n",
    "                \n",
    "                \n",
    "                "
   ]
  },
  {
   "cell_type": "code",
   "execution_count": 18,
   "metadata": {},
   "outputs": [
    {
     "name": "stdout",
     "output_type": "stream",
     "text": [
      "Cost after epoch 0: 0.691839\n",
      "Cost after epoch 5: 0.637341\n",
      "Cost after epoch 10: 0.585548\n",
      "Cost after epoch 15: 0.572770\n",
      "Cost after epoch 20: 0.555246\n",
      "Cost after epoch 25: 0.551325\n",
      "Cost after epoch 30: 0.556858\n",
      "Cost after epoch 35: 0.552959\n",
      "Cost after epoch 40: 0.550179\n",
      "Cost after epoch 45: 0.548156\n",
      "Cost after epoch 50: 0.545481\n",
      "Cost after epoch 55: 0.540066\n",
      "Cost after epoch 60: 0.543470\n",
      "Cost after epoch 65: 0.543554\n",
      "Cost after epoch 70: 0.539833\n",
      "Cost after epoch 75: 0.544765\n",
      "Cost after epoch 80: 0.535345\n",
      "Cost after epoch 85: 0.539736\n",
      "Cost after epoch 90: 0.534401\n",
      "Cost after epoch 95: 0.543709\n",
      "Cost after epoch 100: 0.535812\n",
      "Cost after epoch 105: 0.528057\n",
      "Cost after epoch 110: 0.533505\n",
      "Cost after epoch 115: 0.529773\n",
      "Cost after epoch 120: 0.531439\n",
      "Cost after epoch 125: 0.522536\n",
      "Cost after epoch 130: 0.531301\n",
      "Cost after epoch 135: 0.531802\n",
      "Cost after epoch 140: 0.533024\n",
      "Cost after epoch 145: 0.524760\n",
      "Cost after epoch 150: 0.530600\n",
      "Cost after epoch 155: 0.540074\n",
      "Cost after epoch 160: 0.525965\n",
      "Cost after epoch 165: 0.530264\n",
      "Cost after epoch 170: 0.529976\n",
      "Cost after epoch 175: 0.526513\n",
      "Cost after epoch 180: 0.529757\n",
      "Cost after epoch 185: 0.529678\n",
      "Cost after epoch 190: 0.527798\n",
      "Cost after epoch 195: 0.532761\n"
     ]
    },
    {
     "data": {
      "image/png": "[encoded data removed]",
      "text/plain": [
       "<Figure size 432x288 with 1 Axes>"
      ]
     },
     "metadata": {
      "needs_background": "light"
     },
     "output_type": "display_data"
    },
    {
     "name": "stdout",
     "output_type": "stream",
     "text": [
      "Tensor(\"Mean_1:0\", shape=(), dtype=float32)\n",
      "Train Accuracy: 0.7524722\n",
      "Test Accuracy: 0.73875\n"
     ]
    }
   ],
   "source": [
    "#48 24 12 4\n",
    "\n",
    "\n",
    "_, _, parameters = model(X_train, Y_train, X_test, Y_test)"
   ]
  },
  {
   "cell_type": "code",
   "execution_count": null,
   "metadata": {},
   "outputs": [],
   "source": []
  }
 ],
 "metadata": {
  "kernelspec": {
   "display_name": "Python 3",
   "language": "python",
   "name": "python3"
  },
  "language_info": {
   "codemirror_mode": {
    "name": "ipython",
    "version": 3
   },
   "file_extension": ".py",
   "mimetype": "text/x-python",
   "name": "python",
   "nbconvert_exporter": "python",
   "pygments_lexer": "ipython3",
   "version": "3.6.9"
  }
 },
 "nbformat": 4,
 "nbformat_minor": 4
}
