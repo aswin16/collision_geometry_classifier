{
 "cells": [
  {
   "cell_type": "code",
   "execution_count": 1,
   "metadata": {},
   "outputs": [
    {
     "name": "stderr",
     "output_type": "stream",
     "text": [
      "/home/aswin/.local/lib/python3.6/site-packages/tensorflow/python/framework/dtypes.py:458: FutureWarning: Passing (type, 1) or '1type' as a synonym of type is deprecated; in a future version of numpy, it will be understood as (type, (1,)) / '(1,)type'.\n",
      "  _np_qint8 = np.dtype([(\"qint8\", np.int8, 1)])\n",
      "/home/aswin/.local/lib/python3.6/site-packages/tensorflow/python/framework/dtypes.py:459: FutureWarning: Passing (type, 1) or '1type' as a synonym of type is deprecated; in a future version of numpy, it will be understood as (type, (1,)) / '(1,)type'.\n",
      "  _np_quint8 = np.dtype([(\"quint8\", np.uint8, 1)])\n",
      "/home/aswin/.local/lib/python3.6/site-packages/tensorflow/python/framework/dtypes.py:460: FutureWarning: Passing (type, 1) or '1type' as a synonym of type is deprecated; in a future version of numpy, it will be understood as (type, (1,)) / '(1,)type'.\n",
      "  _np_qint16 = np.dtype([(\"qint16\", np.int16, 1)])\n",
      "/home/aswin/.local/lib/python3.6/site-packages/tensorflow/python/framework/dtypes.py:461: FutureWarning: Passing (type, 1) or '1type' as a synonym of type is deprecated; in a future version of numpy, it will be understood as (type, (1,)) / '(1,)type'.\n",
      "  _np_quint16 = np.dtype([(\"quint16\", np.uint16, 1)])\n",
      "/home/aswin/.local/lib/python3.6/site-packages/tensorflow/python/framework/dtypes.py:462: FutureWarning: Passing (type, 1) or '1type' as a synonym of type is deprecated; in a future version of numpy, it will be understood as (type, (1,)) / '(1,)type'.\n",
      "  _np_qint32 = np.dtype([(\"qint32\", np.int32, 1)])\n",
      "/home/aswin/.local/lib/python3.6/site-packages/tensorflow/python/framework/dtypes.py:465: FutureWarning: Passing (type, 1) or '1type' as a synonym of type is deprecated; in a future version of numpy, it will be understood as (type, (1,)) / '(1,)type'.\n",
      "  np_resource = np.dtype([(\"resource\", np.ubyte, 1)])\n"
     ]
    }
   ],
   "source": [
    "import numpy as np\n",
    "import matplotlib.pyplot as plt\n",
    "import math\n",
    "\n",
    "import scipy\n",
    "\n",
    "\n",
    "import tensorflow as tf\n",
    "from tensorflow.python.framework import ops\n",
    "from cnn_utils import *\n",
    "import time\n",
    "\n",
    "%matplotlib inline\n",
    "np.random.seed(1)"
   ]
  },
  {
   "cell_type": "code",
   "execution_count": 2,
   "metadata": {},
   "outputs": [],
   "source": [
    "#hist_bb = np.load(\"hist_bb.npy\")\n",
    "#hist_tt = np.load('hist_tt.npy')"
   ]
  },
  {
   "cell_type": "code",
   "execution_count": 3,
   "metadata": {},
   "outputs": [],
   "source": [
    "hist_bb = np.load('b_phipt.npy')\n",
    "hist_tt = np.load('t_phipt.npy')\n"
   ]
  },
  {
   "cell_type": "code",
   "execution_count": 4,
   "metadata": {},
   "outputs": [],
   "source": [
    "bb_X_train = hist_bb[:18000]\n",
    "tt_X_train = hist_tt[:18000]\n",
    "\n",
    "bb_Y_train = np.zeros(18000)\n",
    "tt_Y_train = np.ones(18000)\n",
    "\n",
    "\n",
    "\n",
    "bb_X_test = hist_bb[18000:20000]\n",
    "tt_X_test = hist_tt[18000:20000]\n",
    "\n",
    "bb_Y_test = np.zeros(2000)\n",
    "tt_Y_test = np.ones(2000)\n",
    "\n",
    "\n",
    "\n"
   ]
  },
  {
   "cell_type": "code",
   "execution_count": 5,
   "metadata": {},
   "outputs": [],
   "source": [
    "X_train = np.concatenate((bb_X_train,tt_X_train), axis = 0).reshape(-1,40,40,1)\n",
    "X_test = np.concatenate((bb_X_test,tt_X_test), axis = 0).reshape(-1,40,40,1)\n",
    "\n",
    "Y_train = np.concatenate((bb_Y_train,tt_Y_train)).reshape(len(X_train),1)\n",
    "Y_test = np.concatenate((bb_Y_test, tt_Y_test)).reshape(len(X_test),1)\n",
    "\n"
   ]
  },
  {
   "cell_type": "code",
   "execution_count": 6,
   "metadata": {},
   "outputs": [],
   "source": [
    "def create_placeholders(n_H0, n_W0, n_C0, n_y):\n",
    "    \n",
    "    X = tf.placeholder(tf.float32 ,[None, n_H0,n_W0,n_C0])\n",
    "    Y = tf.placeholder(tf.float32, [None, n_y])\n",
    "    \n",
    "    return X, Y\n",
    "    "
   ]
  },
  {
   "cell_type": "code",
   "execution_count": 7,
   "metadata": {},
   "outputs": [],
   "source": [
    "def initialize_parameters():\n",
    "    tf.set_random_seed(1)\n",
    "    \n",
    "    W1 = tf.get_variable(\"W1\", [3,3,1,8],initializer = tf.contrib.layers.xavier_initializer(seed = 0))\n",
    "    W2 = tf.get_variable(\"W2\", [3,3,8,16], initializer = tf.contrib.layers.xavier_initializer(seed = 0))\n",
    "    \n",
    "    W3 = tf.get_variable(\"W3\", [3,3,16,32], initializer = tf.contrib.layers.xavier_initializer(seed = 0))\n",
    "\n",
    "    W4 = tf.get_variable(\"W4\", [3,3,32,64], initializer = tf.contrib.layers.xavier_initializer(seed = 0))\n",
    "\n",
    "    \n",
    "    parameters = {\"W1\": W1,\n",
    "                  \"W2\": W2,\n",
    "                   \"W3\": W3,\n",
    "                   \"W4\": W4}\n",
    "    \n",
    "    \n",
    "    return parameters\n",
    "    \n",
    "    "
   ]
  },
  {
   "cell_type": "code",
   "execution_count": 8,
   "metadata": {},
   "outputs": [
    {
     "data": {
      "text/plain": [
       "\"def forward_propagation(X, parameters):\\n    \\n    W1 = parameters['W1']\\n    \\n    W2 = parameters['W2']\\n    \\n    W3 = parameters['W3']\\n    \\n    W4 = parameters['W4']\\n    \\n    Z1 = tf.nn.conv2d(X, W1, strides = [1,1,1,1], padding = 'SAME')\\n    A1 = tf.nn.relu(Z1)\\n    \\n    \\n    P1 = tf.nn.max_pool(A1, ksize = [1,2,2,1], strides = [1,2,2,1], padding = 'VALID' )\\n    \\n    \\n    Z2 =  tf.nn.conv2d(P1, W2, strides = [1,1,1,1], padding = 'SAME')\\n    A2 = tf.nn.relu(Z2)\\n    \\n\\n    P2 =  tf.nn.max_pool(A2, ksize = [1,3,3,1], strides = [1,2,2,1], padding = 'VALID' )\\n    \\n    Z3 = tf.nn.conv2d(P2, W3, strides = [1,1,1,1], padding =  'SAME')\\n    A3 = tf.nn.relu(Z3)\\n    \\n    P3 = tf.nn.max_pool(A3, ksize = [1,3,3,1], strides = [1,1,1,1], padding = 'VALID' )\\n    \\n    \\n    \\n    F = tf.contrib.layers.flatten(P3)\\n    \\n    A4 = tf.nn.relu(F)\\n    \\n    \\n    \\n    A5 =  tf.contrib.layers.fully_connected(A4, 120, activation_fn = tf.nn.relu)\\n    A6 =  tf.contrib.layers.fully_connected(A5, 30, activation_fn = tf.nn.relu)\\n    #A7 =  tf.contrib.layers.fully_connected(A6, 40, activation_fn = tf.nn.relu)\\n    #A8 =  tf.contrib.layers.fully_connected(A7, 5, activation_fn = tf.nn.relu)\\n    Z  = tf.contrib.layers.fully_connected(A6, 1 ,activation_fn = None)\\n    \\n    \\n    \\n    \\n    return Z\\n    \\n    \\n    \""
      ]
     },
     "execution_count": 8,
     "metadata": {},
     "output_type": "execute_result"
    }
   ],
   "source": [
    "'''def forward_propagation(X, parameters):\n",
    "    \n",
    "    W1 = parameters['W1']\n",
    "    \n",
    "    W2 = parameters['W2']\n",
    "    \n",
    "    W3 = parameters['W3']\n",
    "    \n",
    "    W4 = parameters['W4']\n",
    "    \n",
    "    Z1 = tf.nn.conv2d(X, W1, strides = [1,1,1,1], padding = 'SAME')\n",
    "    A1 = tf.nn.relu(Z1)\n",
    "    \n",
    "    \n",
    "    P1 = tf.nn.max_pool(A1, ksize = [1,2,2,1], strides = [1,2,2,1], padding = 'VALID' )\n",
    "    \n",
    "    \n",
    "    Z2 =  tf.nn.conv2d(P1, W2, strides = [1,1,1,1], padding = 'SAME')\n",
    "    A2 = tf.nn.relu(Z2)\n",
    "    \n",
    "\n",
    "    P2 =  tf.nn.max_pool(A2, ksize = [1,3,3,1], strides = [1,2,2,1], padding = 'VALID' )\n",
    "    \n",
    "    Z3 = tf.nn.conv2d(P2, W3, strides = [1,1,1,1], padding =  'SAME')\n",
    "    A3 = tf.nn.relu(Z3)\n",
    "    \n",
    "    P3 = tf.nn.max_pool(A3, ksize = [1,3,3,1], strides = [1,1,1,1], padding = 'VALID' )\n",
    "    \n",
    "    \n",
    "    \n",
    "    F = tf.contrib.layers.flatten(P3)\n",
    "    \n",
    "    A4 = tf.nn.relu(F)\n",
    "    \n",
    "    \n",
    "    \n",
    "    A5 =  tf.contrib.layers.fully_connected(A4, 120, activation_fn = tf.nn.relu)\n",
    "    A6 =  tf.contrib.layers.fully_connected(A5, 30, activation_fn = tf.nn.relu)\n",
    "    #A7 =  tf.contrib.layers.fully_connected(A6, 40, activation_fn = tf.nn.relu)\n",
    "    #A8 =  tf.contrib.layers.fully_connected(A7, 5, activation_fn = tf.nn.relu)\n",
    "    Z  = tf.contrib.layers.fully_connected(A6, 1 ,activation_fn = None)\n",
    "    \n",
    "    \n",
    "    \n",
    "    \n",
    "    return Z\n",
    "    \n",
    "    \n",
    "    '''"
   ]
  },
  {
   "cell_type": "code",
   "execution_count": 15,
   "metadata": {},
   "outputs": [],
   "source": [
    "def forward_propagation(X, parameters):\n",
    "    \n",
    "    W1 = parameters['W1']\n",
    "    \n",
    "    W2 = parameters['W2']\n",
    "    \n",
    "    W3 = parameters['W3']\n",
    "    \n",
    "    W4 = parameters['W4']\n",
    "    \n",
    "    Z1 = tf.nn.conv2d(X, W1, strides = [1,1,1,1], padding = 'SAME')\n",
    "    A1 = tf.nn.relu(Z1)\n",
    "    \n",
    "    \n",
    "    P1 = tf.nn.max_pool(A1, ksize = [1,2,2,1], strides = [1,2,2,1], padding = 'VALID' )\n",
    "    \n",
    "    \n",
    "    Z2 =  tf.nn.conv2d(P1, W2, strides = [1,1,1,1], padding = 'SAME')\n",
    "    A2 = tf.nn.relu(Z2)\n",
    "    \n",
    "\n",
    "    P2 =  tf.nn.max_pool(A2, ksize = [1,3,3,1], strides = [1,2,2,1], padding = 'VALID' )\n",
    "    \n",
    "    Z3 = tf.nn.conv2d(P2, W3, strides = [1,1,1,1], padding =  'SAME')\n",
    "    A3 = tf.nn.relu(Z3)\n",
    "    \n",
    "    P3 = tf.nn.max_pool(A3, ksize = [1,3,3,1], strides = [1,1,1,1], padding = 'VALID' )\n",
    "    \n",
    "    Z4 = tf.nn.conv2d(P3, W4, strides = [1,1,1,1], padding =  'SAME')\n",
    "    A4 =  tf.nn.relu(Z4)\n",
    "    \n",
    "    P4 = tf.nn.max_pool(A3, ksize = [1,2,2,1], strides = [1,2,2,1], padding = 'VALID' )\n",
    "    \n",
    "    \n",
    "    \n",
    "    \n",
    "    \n",
    "    F = tf.contrib.layers.flatten(P4)\n",
    "    \n",
    "    A5 = tf.nn.relu(F)\n",
    "    \n",
    "    \n",
    "    \n",
    "    A6 =  tf.contrib.layers.fully_connected(A5, 4096, activation_fn = tf.nn.relu)\n",
    "    A7 =  tf.contrib.layers.fully_connected(A6, 2048, activation_fn = tf.nn.relu)\n",
    "    A8 =  tf.contrib.layers.fully_connected(A7, 512, activation_fn = tf.nn.relu)\n",
    "    #A9 =  tf.contrib.layers.fully_connected(A8, 32, activation_fn = tf.nn.relu)\n",
    "    Z  = tf.contrib.layers.fully_connected(A8, 1 ,activation_fn = None)\n",
    "    \n",
    "    \n",
    "    \n",
    "    \n",
    "    return Z\n",
    "    \n",
    "    \n",
    "    "
   ]
  },
  {
   "cell_type": "code",
   "execution_count": 10,
   "metadata": {},
   "outputs": [],
   "source": [
    "def compute_cost(Z, Y):\n",
    "    \n",
    "    cost = tf.reduce_mean(tf.nn.sigmoid_cross_entropy_with_logits(logits = Z, labels = Y))\n",
    "    \n",
    "    return cost"
   ]
  },
  {
   "cell_type": "code",
   "execution_count": 11,
   "metadata": {},
   "outputs": [],
   "source": [
    "def model(X_train, Y_train, X_test, Y_test, learning_rate = 0.009,\n",
    "          num_epochs = 100, minibatch_size = 64, print_cost = True):\n",
    "    \n",
    "    \n",
    "    \n",
    "    \n",
    "    \n",
    "    ops.reset_default_graph()\n",
    "    tf.set_random_seed(1)\n",
    "    seed = 3\n",
    "    (m,n_H0,n_W0,n_C0) = X_train.shape\n",
    "    \n",
    "    n_y = Y_train.shape[1]\n",
    "    \n",
    "    costs = []\n",
    "    \n",
    "    X,Y = create_placeholders(n_H0, n_W0,n_C0, n_y)\n",
    "    \n",
    "    parameters = initialize_parameters()\n",
    "    \n",
    "    Z =  forward_propagation(X, parameters)\n",
    "    \n",
    "    cost = compute_cost(Z,Y)\n",
    "    \n",
    "    optimizer =  tf.train.AdamOptimizer(learning_rate= learning_rate).minimize(cost)\n",
    "    \n",
    "    init = tf.global_variables_initializer()\n",
    "    \n",
    "    \n",
    "    \n",
    "    \n",
    "    with tf.Session() as sess:\n",
    "        \n",
    "        sess.run(init)\n",
    "        \n",
    "        for epoch in range(num_epochs):\n",
    "            \n",
    "            minibatch_cost = 0.\n",
    "            num_minibathches = int(m/minibatch_size)\n",
    "            seed = seed + 1\n",
    "            \n",
    "            minibatches =  random_mini_batches(X_train, Y_train, minibatch_size, seed)\n",
    "            \n",
    "            for minibatch in minibatches:\n",
    "                \n",
    "                (minibatch_X, minibatch_Y) = minibatch\n",
    "                \n",
    "                _ , temp_cost = sess.run([optimizer, cost], feed_dict = {X: minibatch_X, Y: minibatch_Y})\n",
    "                \n",
    "                minibatch_cost += temp_cost/ num_minibathches\n",
    "                \n",
    "                \n",
    "                \n",
    "                \n",
    "            if print_cost == True and epoch % 5 == 0:\n",
    "                print(\"Cost after epoch %i: %f\" % (epoch, minibatch_cost))\n",
    "                \n",
    "            if print_cost == True and epoch % 1 == 0:\n",
    "                costs.append(minibatch_cost)\n",
    "                \n",
    "        plt.plot(np.squeeze(costs))\n",
    "        \n",
    "        plt.xlabel('iterations(per tens)')\n",
    "        plt.ylabel('cost')\n",
    "        plt.title(\"Learning rate =\" + str(learning_rate))\n",
    "        plt.show()\n",
    "        \n",
    "        predict_op = tf.nn.sigmoid(Z)\n",
    "        \n",
    "        correct_prediction = tf.equal(tf.round(predict_op), Y)\n",
    "        \n",
    "        accuracy = tf.reduce_mean(tf.cast(correct_prediction, \"float\"))\n",
    "        \n",
    "        print(accuracy)\n",
    "        \n",
    "        train_accuracy = accuracy.eval({X: X_train, Y: Y_train})\n",
    "        test_accuracy = accuracy.eval({X: X_test, Y: Y_test})\n",
    "        \n",
    "        print(\"Train Accuracy:\", train_accuracy)\n",
    "        print(\"Test Accuracy:\", test_accuracy)\n",
    "        \n",
    "        return train_accuracy, test_accuracy, parameters\n",
    "        \n",
    "        \n",
    "        \n",
    "                \n",
    "                \n",
    "                \n",
    "                "
   ]
  },
  {
   "cell_type": "code",
   "execution_count": 16,
   "metadata": {},
   "outputs": [
    {
     "name": "stdout",
     "output_type": "stream",
     "text": [
      "Cost after epoch 0: 0.421164\n",
      "Cost after epoch 5: 0.233846\n",
      "Cost after epoch 10: 0.216282\n",
      "Cost after epoch 15: 0.214775\n",
      "Cost after epoch 20: 0.204844\n",
      "Cost after epoch 25: 0.201554\n",
      "Cost after epoch 30: 0.251166\n",
      "Cost after epoch 35: 0.194675\n",
      "Cost after epoch 40: 0.191767\n",
      "Cost after epoch 45: 0.193361\n",
      "Cost after epoch 50: 0.223859\n",
      "Cost after epoch 55: 0.204181\n",
      "Cost after epoch 60: 0.218596\n",
      "Cost after epoch 65: 0.187198\n",
      "Cost after epoch 70: 0.183978\n",
      "Cost after epoch 75: 0.208200\n",
      "Cost after epoch 80: 0.187630\n",
      "Cost after epoch 85: 0.184824\n",
      "Cost after epoch 90: 0.179491\n",
      "Cost after epoch 95: 0.186832\n"
     ]
    },
    {
     "data": {
      "image/png": "[encoded data removed]",
      "text/plain": [
       "<Figure size 432x288 with 1 Axes>"
      ]
     },
     "metadata": {
      "needs_background": "light"
     },
     "output_type": "display_data"
    },
    {
     "name": "stdout",
     "output_type": "stream",
     "text": [
      "Tensor(\"Mean_1:0\", shape=(), dtype=float32)\n",
      "Train Accuracy: 0.933\n",
      "Test Accuracy: 0.90275\n"
     ]
    }
   ],
   "source": [
    "train_accuracy, test_accuracy, parameters = model(X_train, Y_train, X_test, Y_test)"
   ]
  },
  {
   "cell_type": "code",
   "execution_count": 13,
   "metadata": {},
   "outputs": [
    {
     "data": {
      "text/plain": [
       "3"
      ]
     },
     "execution_count": 13,
     "metadata": {},
     "output_type": "execute_result"
    }
   ],
   "source": [
    "file = open('111.txt', 'w')\n",
    "file.write(str(train_accuracy))\n",
    "file.write(str(test_accuracy))\n"
   ]
  }
 ],
 "metadata": {
  "kernelspec": {
   "display_name": "Python 3",
   "language": "python",
   "name": "python3"
  },
  "language_info": {
   "codemirror_mode": {
    "name": "ipython",
    "version": 3
   },
   "file_extension": ".py",
   "mimetype": "text/x-python",
   "name": "python",
   "nbconvert_exporter": "python",
   "pygments_lexer": "ipython3",
   "version": "3.6.9"
  }
 },
 "nbformat": 4,
 "nbformat_minor": 4
}
